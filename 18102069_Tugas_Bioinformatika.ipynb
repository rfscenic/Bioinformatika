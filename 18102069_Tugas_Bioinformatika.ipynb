{
  "nbformat": 4,
  "nbformat_minor": 0,
  "metadata": {
    "colab": {
      "name": "18102069_Tugas_Bioinformatika.ipynb",
      "provenance": [],
      "authorship_tag": "ABX9TyPma8rHndNT/R0nAt2X1Z59",
      "include_colab_link": true
    },
    "kernelspec": {
      "name": "python3",
      "display_name": "Python 3"
    }
  },
  "cells": [
    {
      "cell_type": "markdown",
      "metadata": {
        "id": "view-in-github",
        "colab_type": "text"
      },
      "source": [
        "<a href=\"https://colab.research.google.com/github/rfscenic/Bioinformatika/blob/Tugas-1-File-Text-CRUD/18102069_Tugas_Bioinformatika.ipynb\" target=\"_parent\"><img src=\"https://colab.research.google.com/assets/colab-badge.svg\" alt=\"Open In Colab\"/></a>"
      ]
    },
    {
      "cell_type": "markdown",
      "metadata": {
        "id": "j5q7-DA7SDyZ"
      },
      "source": [
        "# TUGAS 1\n",
        "**Nama   : Rolanita Scenic Faravati**\n",
        "\n",
        "**NIM    : 18102069**\n",
        "\n",
        "**Kelas  : S1IF-06-SC1**\n",
        "\n",
        "\n",
        "---\n",
        "\n",
        "\n",
        "Tugas 1 Bioinformatika:\n",
        "\n",
        "Buat sebuah file text yang bisa diinputkan dari keyboard.\n",
        "\n",
        "Buat juga sebuah file dummy, yang digunakan untuk:\n",
        "1. create\n",
        "2. open\n",
        "3. read\n",
        "4. delete\n",
        "\n",
        "Juga gunakan semua mode (w, r, a, x) yang sensuai fungsinya\n",
        "\n",
        "\n",
        "---"
      ]
    },
    {
      "cell_type": "markdown",
      "metadata": {
        "id": "ILabjwBvA_0K"
      },
      "source": [
        "## NOMOR 1\n",
        "1. Membuat sebuah file text yang bisa diinputkan dari keyboard."
      ]
    },
    {
      "cell_type": "code",
      "metadata": {
        "id": "pwoL6ZpdBLOO",
        "outputId": "d18dc048-e72b-4304-bf82-bd7fb96cc9bc",
        "colab": {
          "base_uri": "https://localhost:8080/",
          "height": 176
        }
      },
      "source": [
        "# Nama: Rolanita Scenic Faravati\n",
        "# NIM : 18102069\n",
        "\n",
        "# Membuat file text dengan mode w\n",
        "fileText = open('FileTextInputan.txt', 'w')\n",
        "\n",
        "# Membuat objek untuk inputan\n",
        "masuk = input(\"Masukkan Nama : \")\n",
        "\n",
        "# Memasukkan inputan ke dalam file text\n",
        "fileText.write(\"- \" + masuk + \"\\n\")\n",
        "fileText.close()\n",
        "\n",
        "# Membuka file text dengan mode r\n",
        "fileText = open('FileTextInputan.txt', 'r')\n",
        "\n",
        "# Menampilkan data\n",
        "print(\"Kumpulan Nama-nama Indah : \\n{}\".format(fileText.read()))\n",
        "fileText.close()\n",
        "\n",
        "# Memasukkan data baru ke dalam objek\n",
        "masuk_append = input(\"Masukkan Nama Lagi : \")\n",
        "\n",
        "# Membuka file text dan menambah data dengan mode a\n",
        "fileText = open('FileTextInputan.txt', 'a')\n",
        "fileText.write(\"- \" + masuk_append + \"\\n\")\n",
        "fileText.close()\n",
        "\n",
        "# Menampilkan data dengan mode r setelah ditambahkan data dengan append (mode a)\n",
        "fileText = open('FileTextInputan.txt', 'r')\n",
        "print(\"Kumpulan Nama-nama Indah : \\n{}\".format(fileText.read()))\n",
        "fileText.close()"
      ],
      "execution_count": null,
      "outputs": [
        {
          "output_type": "stream",
          "text": [
            "Masukkan Nama : Scenic\n",
            "Kumpulan Nama-nama Indah : \n",
            "- Scenic\n",
            "\n",
            "Masukkan Nama Lagi : Listyapryl\n",
            "Kumpulan Nama-nama Indah : \n",
            "- Scenic\n",
            "- Listyapryl\n",
            "\n"
          ],
          "name": "stdout"
        }
      ]
    },
    {
      "cell_type": "code",
      "metadata": {
        "id": "reY8ppcaGMDy",
        "outputId": "fc688315-d4e5-425c-b4e8-462cdc9987dc",
        "colab": {
          "base_uri": "https://localhost:8080/",
          "height": 261
        }
      },
      "source": [
        "# Nama: Rolanita Scenic Faravati\n",
        "# NIM : 18102069\n",
        "\n",
        "# Membuat file text dengan mode x\n",
        "try:\n",
        "  file = open('FileAnimeFavoriteList.txt', 'x')\n",
        "except:\n",
        "  print(\"\\nInput Data\\n\")\n",
        "\n",
        "print(\"Selamat Datang di FileAnime.txt\")\n",
        "\n",
        "# Menambahkan data pada objek\n",
        "nama = input(\"Masukkan Nama   : \")\n",
        "anime = input(\"Anime Favorite : \")\n",
        "\n",
        "inputData_append = \"Nama           : {}\\nAnime Favorite : {}\\n\".format(nama, anime)\n",
        "\n",
        "# Menambah data dengan mode a\n",
        "file = open('FileAnimeFavoriteList.txt', 'a')\n",
        "\n",
        "# Simpan data ke dalam File\n",
        "file.write(inputData_append + '\\n')\n",
        "\n",
        "# Menampilkan data dengan mode r setelah ditambahkan data dengan append (mode a)\n",
        "file = open('FileAnimeFavoriteList.txt', 'r')\n",
        "print(\"\\nHasil Data Inputan: \\n{}\".format(file.read()))\n",
        "file.close()"
      ],
      "execution_count": null,
      "outputs": [
        {
          "output_type": "stream",
          "text": [
            "\n",
            "Input Data\n",
            "\n",
            "Selamat Datang di FileAnime.txt\n",
            "Masukkan Nama   : Listya\n",
            "Anime Favorite : Akatsuki No Yona\n",
            "\n",
            "Hasil Data Inputan: \n",
            "Nama           : Scenic\n",
            "Anime Favorite : Kono Oto Tomare\n",
            "\n",
            "Nama           : Listya\n",
            "Anime Favorite : Akatsuki No Yona\n",
            "\n",
            "\n"
          ],
          "name": "stdout"
        }
      ]
    },
    {
      "cell_type": "markdown",
      "metadata": {
        "id": "ZmlmZKahRhQW"
      },
      "source": [
        "\n",
        "\n",
        "---\n",
        "## NOMOR 2\n",
        "2. Membuat File Dummy CRUD"
      ]
    },
    {
      "cell_type": "code",
      "metadata": {
        "id": "1zog9Kl_E--Z"
      },
      "source": [
        "# Nama : Rolanita Scenic Faravati\n",
        "# NIM  : 18102069\n",
        "\n",
        "# Import modul os untuk menghapus file\n",
        "import os\n",
        "\n",
        "# Fungsi creareFile() untuk membuat file\n",
        "def createFile(fn = \"Masukkan Nama File (Ex: file.txt) : \"):\n",
        "  print(\"CREATE FILE\")\n",
        "  print(\"===============\")\n",
        "  fileName = input(fn)\n",
        "  # Apabila nama file baru\n",
        "  try:\n",
        "    myObject = open(fileName, 'w')\n",
        "    myObject.write('Selamat Datang!\\n')\n",
        "    print(\"File dengan nama \" + fileName + \" Berhasil dibuat!\")\n",
        "  # Jika sudah ada nama file, buat yang baru\n",
        "  except:\n",
        "    print(\"Nama file text sudah ada, Buat yang baru!\")\n",
        "    myObject = open(fileName, 'x')\n",
        "    myObject.write('Selamat Datang!')\n",
        "    print(\"File dengan nama \" + fileName + \" Berhasil dibuat!\")\n",
        "    \n",
        "  myObject.close()\n",
        "  return fileName\n",
        "\n",
        "\n",
        "# Fungsi readFile() untuk membaca file\n",
        "def readFile(fileName):\n",
        "  print(\"READ FILE\")\n",
        "  print(\"===============\")\n",
        "  \n",
        "  # Membaca file dengan mode r\n",
        "  myObject = open(fileName, 'r')\n",
        "  \n",
        "  print(\"Hasil Inputan: {}\\n\".format(myObject.read()))\n",
        "  myObject.close()\n",
        "\n",
        "\n",
        "# Fungsi inputData_File() untuk memasukkan data ke dalam file\n",
        "def inputData_File(fileName):\n",
        "  print(\"INPUT DATA FILE\")\n",
        "  print(\"===============\")\n",
        "  name = input(\"Masukkan Nama : \")\n",
        "\n",
        "  # Menambah data dengan mode a\n",
        "  myObject = open(fileName, 'a')\n",
        "\n",
        "  # Simpan data ke dalam file\n",
        "  myObject.write(name + '\\n')\n",
        "  myObject.close()\n",
        "\n",
        "  print(\"Data dengan nama \" + name + \" Berhasil dimasukkan ke file \" + fileName + \"!\")\n",
        "\n",
        "\n",
        "# Fungsi deleteFile() untuk menghapus file\n",
        "def deleteFile():\n",
        "  print(\"DELETE FILE\")\n",
        "  print(\"===============\")\n",
        "  \n",
        "  fileName = input(\"Masukkan Nama File yang akan dihapus : \")\n",
        "  \n",
        "  if os.path.exists(fileName):\n",
        "    os.remove(fileName)\n",
        "    print(\"FILE TERHAPUS!\")\n",
        "  else:\n",
        "    print(\"FILE TIDAK ADA!\")\n",
        "\n"
      ],
      "execution_count": null,
      "outputs": []
    },
    {
      "cell_type": "code",
      "metadata": {
        "id": "tvmN4TMjLk2v",
        "outputId": "b837a02c-100b-4a43-e613-83154a7279c0",
        "colab": {
          "base_uri": "https://localhost:8080/",
          "height": 82
        }
      },
      "source": [
        "# CREATE FILE\n",
        "\n",
        "fileName = createFile()"
      ],
      "execution_count": null,
      "outputs": [
        {
          "output_type": "stream",
          "text": [
            "CREATE FILE\n",
            "===============\n",
            "Masukkan Nama File (Ex: file.txt) : AkayoGroup.txt\n",
            "File dengan nama AkayoGroup.txt Berhasil dibuat!\n"
          ],
          "name": "stdout"
        }
      ]
    },
    {
      "cell_type": "code",
      "metadata": {
        "id": "0tyTSvJZLunI",
        "outputId": "c233423a-19ad-403d-be18-187db5c9dd0f",
        "colab": {
          "base_uri": "https://localhost:8080/",
          "height": 82
        }
      },
      "source": [
        "# UPDATE FILE\n",
        "\n",
        "inputData_File(fileName)"
      ],
      "execution_count": null,
      "outputs": [
        {
          "output_type": "stream",
          "text": [
            "INPUT DATA FILE\n",
            "===============\n",
            "Masukkan Nama : Scenic\n",
            "Data dengan nama Scenic Berhasil dimasukkan ke file AkayoGroup.txt!\n"
          ],
          "name": "stdout"
        }
      ]
    },
    {
      "cell_type": "code",
      "metadata": {
        "id": "Sq-x9kpPMHab",
        "outputId": "0aa3ff68-ee4f-4f13-a033-f312013efa95",
        "colab": {
          "base_uri": "https://localhost:8080/",
          "height": 147
        }
      },
      "source": [
        "# READ FILE\n",
        "\n",
        "readFile(fileName)"
      ],
      "execution_count": null,
      "outputs": [
        {
          "output_type": "stream",
          "text": [
            "READ FILE\n",
            "===============\n",
            "Hasil Inputan: Selamat Datang!\n",
            "Aya\n",
            "Goku\n",
            "Scenic\n",
            "\n",
            "\n"
          ],
          "name": "stdout"
        }
      ]
    },
    {
      "cell_type": "code",
      "metadata": {
        "id": "nK0yxX7PNDm3",
        "outputId": "0af9e60b-1f71-484e-fc1c-8be4e12c63ff",
        "colab": {
          "base_uri": "https://localhost:8080/",
          "height": 82
        }
      },
      "source": [
        "# DELETE FILE\n",
        "\n",
        "deleteFile()"
      ],
      "execution_count": null,
      "outputs": [
        {
          "output_type": "stream",
          "text": [
            "DELETE FILE\n",
            "===============\n",
            "Masukkan Nama File yang akan dihapus : AkayoGroup.txt\n",
            "FILE TERHAPUS!\n"
          ],
          "name": "stdout"
        }
      ]
    }
  ]
}